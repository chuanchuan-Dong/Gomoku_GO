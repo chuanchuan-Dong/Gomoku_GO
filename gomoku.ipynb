{
 "cells": [
  {
   "cell_type": "code",
   "execution_count": 4,
   "metadata": {},
   "outputs": [],
   "source": [
    "import numpy as np\n",
    "from collections import defaultdict"
   ]
  },
  {
   "cell_type": "markdown",
   "metadata": {},
   "source": [
    "# Tic-tac-toe game design"
   ]
  },
  {
   "cell_type": "code",
   "execution_count": 1,
   "metadata": {},
   "outputs": [
    {
     "name": "stdout",
     "output_type": "stream",
     "text": [
      "0\n"
     ]
    }
   ],
   "source": []
  },
  {
   "cell_type": "code",
   "execution_count": 2,
   "metadata": {},
   "outputs": [],
   "source": [
    "class gomoku_move():\n",
    "    def __init__(self, x_cor, y_cor, value) -> None:\n",
    "        self.x_cor = x_cor\n",
    "        self.y_cor = y_cor\n",
    "        self.value = value\n",
    "\n",
    "class gomoku_game():\n",
    "    x = 1\n",
    "    o = -1\n",
    "    def __init__(self, state, next_person, win=5) -> None:\n",
    "        \"\"\"\n",
    "\n",
    "\n",
    "        Input: \n",
    "            state: the game  state (15 * 15)\n",
    "        \"\"\"\n",
    "        self.board = state\n",
    "        self.board_size = state.shape[0]\n",
    "        self.win = win # how many in the board lead to win\n",
    "        self.next_person = next_person\n",
    "\n",
    "\n",
    "    def check_win(self):\n",
    "        \"\"\"\n",
    "        1 means x wins \n",
    "        -1 means o wins\n",
    "        0 means draw\n",
    "        None means no result yet.\n",
    "        \"\"\"\n",
    "        for i in range(self.board_size - self.win + 1):\n",
    "            row_sum = np.sum(self.board[i:i+self.win], axis = 1)\n",
    "            colum_sum = np.sum(self.board[i:i+self.win], axis= 0)\n",
    "            if row_sum.max() == self.win or colum_sum.max() == self.win:\n",
    "                return self.x\n",
    "            \n",
    "            if row_sum.min() == -self.win or colum_sum.min() == -self.win:\n",
    "                return self.o\n",
    "        for i in range(self.board_size - self.win + 1):\n",
    "            for j in range(self.board_size - self.win + 1):\n",
    "                sub_board = self.board[i:i+self.win, j:j+self.win]\n",
    "                dig_sum = np.trace(sub_board)\n",
    "                dig_sum_inv = np.trace(sub_board[::-1])\n",
    "                if dig_sum == self.win or dig_sum_inv == self.win:\n",
    "                    return self.x\n",
    "                if dig_sum == -self.win or dig_sum_inv == -self.win:\n",
    "                    return self.o\n",
    "        # draw \n",
    "        if np.all(self.board != 0):\n",
    "            return 0\n",
    "        \n",
    "        return None\n",
    "    \n",
    "    def is_game_over(self):\n",
    "        \"\"\"\n",
    "        check wheter game is over \n",
    "        retrun 1: game over\n",
    "               0: keep going \n",
    "        \"\"\"\n",
    "        return self.check_win() is not None\n",
    "    \n",
    "    def check_move_legal(self, move: gomoku_move):\n",
    "        if move.value != self.next_person:\n",
    "            return False\n",
    "        \n",
    "        x_in_range = (0 <= move.x_cor < self.board_size)\n",
    "        y_in_range = (0 <= move.y_cor < self.board_size)\n",
    "        if not x_in_range or not y_in_range:\n",
    "            return False\n",
    "\n",
    "        return self.board[move.x_cor, move.y_cor] == 0\n",
    "    \n",
    "    def move(self, move: gomoku_move):\n",
    "        if not self.check_move_legal(move):\n",
    "            raise ValueError(\"It is ilegal move\")\n",
    "        new_board = self.board.copy()\n",
    "        new_board[move.x_cor, move.y_cor] = move.value\n",
    "        next_person = - self.next_person\n",
    "\n",
    "        return type(self)(new_board, next_person) #######\n",
    "    \n",
    "    def get_legal_action(self):\n",
    "        index = np.where(self.board == 0)\n",
    "        return [gomoku_move(coord[0], coord[1], self.next_person)\n",
    "                for coord in list(zip(index[0], index[1]))]"
   ]
  },
  {
   "cell_type": "code",
   "execution_count": 5,
   "metadata": {},
   "outputs": [
    {
     "name": "stdout",
     "output_type": "stream",
     "text": [
      "None\n"
     ]
    }
   ],
   "source": [
    "state = np.zeros((15,15))\n",
    "\n",
    "ttc = gomoku_game(state=state, next_person=1)\n",
    "ttc.is_game_over()\n",
    "print(ttc.check_win())\n"
   ]
  },
  {
   "cell_type": "markdown",
   "metadata": {},
   "source": [
    "# Monte Carlo Tree node Design"
   ]
  },
  {
   "cell_type": "code",
   "execution_count": 5,
   "metadata": {},
   "outputs": [],
   "source": [
    "class MC_TreeNode():\n",
    "    def __init__(self, state: gomoku_game, parent=None) -> None:\n",
    "        self.state = state\n",
    "        self.parent: MC_TreeNode = parent\n",
    "        self.children = []\n",
    "        \n",
    "        self.number_of_visit = 0\n",
    "        self.untried_action = None\n",
    "        self.result = defaultdict(int)\n",
    "\n",
    "        \n",
    "    def is_terminal_node(self):\n",
    "        return self.state.is_game_over()\n",
    "    \n",
    "    def is_fully_expand(self):\n",
    "        \n",
    "        return len(self.find_untried_action_of_node()) == 0\n",
    "    \n",
    "\n",
    "    def find_untried_action_of_node(self) -> gomoku_move:\n",
    "        if self.untried_action is None:\n",
    "            self.untried_action = self.state.get_legal_action()\n",
    "        return self.untried_action\n",
    "    \n",
    "    def q(self):\n",
    "        win = self.result[self.parent.state.next_person]\n",
    "        loss = self.result[-self.parent.state.next_person]\n",
    "        return win - loss\n",
    "\n",
    "\n",
    "    def n(self):\n",
    "        return self.number_of_visit\n",
    "\n",
    "\n",
    "    def expand(self):\n",
    "        action = self.find_untried_action_of_node().pop()\n",
    "        next_state = self.state.move(action)\n",
    "        child_node = MC_TreeNode(next_state, parent=self)\n",
    "        self.children.append(child_node)\n",
    "        return child_node\n",
    "    \n",
    "    def rollout_policy(self, possible_moves):\n",
    "        return possible_moves[np.random.randint(len(possible_moves))]\n",
    "    \n",
    "    def rollout(self):\n",
    "        current_state = self.state\n",
    "        while not current_state.is_game_over():\n",
    "            possible_action = current_state.get_legal_action()\n",
    "            action = self.rollout_policy(possible_action)\n",
    "            current_state = current_state.move(action)\n",
    "        return current_state.check_win()\n",
    "    \n",
    "    def backpropagate(self, result):\n",
    "        self.number_of_visit += 1\n",
    "        self.result[result] += 1\n",
    "        if self.parent:\n",
    "            self.parent.backpropagate(result)\n",
    "\n",
    "\n",
    "    def best_children(self,c_para = 1.5):\n",
    "        weight = []\n",
    "        for each_children in self.children:\n",
    "            each_weight = each_children.q() / each_children.n() + c_para * np.sqrt(np.log(self.n()) / each_children.n())\n",
    "            weight.append(each_weight)\n",
    "        return self.children[np.argmax(weight)]"
   ]
  },
  {
   "cell_type": "markdown",
   "metadata": {},
   "source": [
    "# Monte Carlo Tree seach"
   ]
  },
  {
   "cell_type": "code",
   "execution_count": 6,
   "metadata": {},
   "outputs": [],
   "source": [
    "class MC_TreeSearch():\n",
    "    def __init__(self, node: MC_TreeNode) -> None:\n",
    "        self.root = node\n",
    "\n",
    "    def best_move(self, simulation_number = 1000):\n",
    "        for _ in range(0, simulation_number):\n",
    "           v = self.policy_in_searchtree() # v is the next move\n",
    "           reward = v.rollout()\n",
    "           v.backpropagate(reward)\n",
    "        return self.root.best_children()\n",
    "\n",
    "\n",
    "\n",
    "    def policy_in_searchtree(self) -> MC_TreeNode:\n",
    "        \"\"\"\n",
    "        select a node to run rollout\n",
    "        return a node\n",
    "        \"\"\"\n",
    "        currenn_node = self.root\n",
    "        while not currenn_node.is_terminal_node():\n",
    "            if not currenn_node.is_fully_expand(): \n",
    "                return currenn_node.expand()\n",
    "            else:\n",
    "                currenn_node = currenn_node.best_children()\n",
    "        return currenn_node\n",
    "        "
   ]
  },
  {
   "cell_type": "code",
   "execution_count": 7,
   "metadata": {},
   "outputs": [
    {
     "name": "stdout",
     "output_type": "stream",
     "text": [
      "[[0. 0. 0.]\n",
      " [0. 0. 0.]\n",
      " [0. 0. 1.]]\n",
      "[[ 0.  0.  0.]\n",
      " [ 0. -1.  0.]\n",
      " [ 0.  0.  1.]]\n",
      "[[ 0.  0.  0.]\n",
      " [ 0. -1.  0.]\n",
      " [ 0.  1.  1.]]\n",
      "[[ 0.  0.  0.]\n",
      " [ 0. -1.  0.]\n",
      " [-1.  1.  1.]]\n",
      "[[ 0.  0.  1.]\n",
      " [ 0. -1.  0.]\n",
      " [-1.  1.  1.]]\n",
      "[[ 0.  0.  1.]\n",
      " [ 0. -1. -1.]\n",
      " [-1.  1.  1.]]\n",
      "[[ 0.  0.  1.]\n",
      " [ 1. -1. -1.]\n",
      " [-1.  1.  1.]]\n",
      "[[ 0. -1.  1.]\n",
      " [ 1. -1. -1.]\n",
      " [-1.  1.  1.]]\n",
      "[[ 1. -1.  1.]\n",
      " [ 1. -1. -1.]\n",
      " [-1.  1.  1.]]\n"
     ]
    }
   ],
   "source": [
    "state = np.zeros((3, 3))\n",
    "board_state = tic_tac_toe(state=state, next_person=1)\n",
    "\n",
    "root = MC_TreeNode(state=board_state,parent=None)\n",
    "mcts = MC_TreeSearch(root)\n",
    "next_move = mcts.best_move(10000)\n",
    "print(next_move.state.board)\n",
    "next_person = 1\n",
    "while not next_move.state.is_game_over():\n",
    "    next_person = -1 *next_person\n",
    "    board_state = tic_tac_toe(next_move.state.board, next_person=next_person)\n",
    "    root = MC_TreeNode(board_state, parent=None)\n",
    "    mcts = MC_TreeSearch(root)\n",
    "    next_move = mcts.best_move(10000)\n",
    "    print(next_move.state.board)\n"
   ]
  },
  {
   "cell_type": "code",
   "execution_count": 8,
   "metadata": {},
   "outputs": [
    {
     "name": "stdout",
     "output_type": "stream",
     "text": [
      "[[ 1  1  1]\n",
      " [-1 -1  0]\n",
      " [ 1 -1 -1]]\n"
     ]
    }
   ],
   "source": [
    "state = np.array([[1,1,0],\n",
    "                  [-1,-1,0],\n",
    "                  [1,-1,-1]])\n",
    "board_state = tic_tac_toe(state=state, next_person=1)\n",
    "\n",
    "root = MC_TreeNode(state=board_state,parent=None)\n",
    "mcts = MC_TreeSearch(root)\n",
    "next_move = mcts.best_move(10000)\n",
    "print(next_move.state.board)"
   ]
  },
  {
   "cell_type": "code",
   "execution_count": null,
   "metadata": {},
   "outputs": [],
   "source": []
  }
 ],
 "metadata": {
  "kernelspec": {
   "display_name": "ML",
   "language": "python",
   "name": "python3"
  },
  "language_info": {
   "codemirror_mode": {
    "name": "ipython",
    "version": 3
   },
   "file_extension": ".py",
   "mimetype": "text/x-python",
   "name": "python",
   "nbconvert_exporter": "python",
   "pygments_lexer": "ipython3",
   "version": "3.9.17"
  }
 },
 "nbformat": 4,
 "nbformat_minor": 2
}
